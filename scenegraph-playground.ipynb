{
 "cells": [
  {
   "cell_type": "code",
   "execution_count": 38,
   "metadata": {},
   "outputs": [],
   "source": [
    "from dataset.threedfront_dataset import ThreedFrontDatasetSceneGraph"
   ]
  },
  {
   "cell_type": "code",
   "execution_count": 39,
   "metadata": {},
   "outputs": [],
   "source": [
    "import numpy as np"
   ]
  },
  {
   "cell_type": "code",
   "execution_count": 40,
   "metadata": {},
   "outputs": [
    {
     "name": "stdout",
     "output_type": "stream",
     "text": [
      "loading CLIP\n",
      "Checking for missing clip feats. This can be slow the first time.\n"
     ]
    },
    {
     "name": "stderr",
     "output_type": "stream",
     "text": [
      "100%|██████████| 370/370 [00:00<00:00, 418.62it/s]\n"
     ]
    }
   ],
   "source": [
    "dataset = ThreedFrontDatasetSceneGraph(\n",
    "    root=\"/home/ubuntu/datasets/FRONT\",\n",
    "    split='val_scans',\n",
    "    shuffle_objs=True,\n",
    "    use_SDF=False,\n",
    "    use_scene_rels=True,\n",
    "    with_changes=True,\n",
    "    with_CLIP=True,\n",
    "    large=False,\n",
    "    seed=False,\n",
    "    room_type='all',\n",
    "    recompute_clip=False)\n",
    "\n"
   ]
  },
  {
   "cell_type": "code",
   "execution_count": 76,
   "metadata": {},
   "outputs": [
    {
     "name": "stdout",
     "output_type": "stream",
     "text": [
      "lamp left cabinet\n",
      "nightstand same super category as wardrobe\n",
      "cabinet same super category as nightstand\n",
      "bed taller than table\n",
      "wardrobe same material as nightstand\n",
      "nightstand close by bed\n",
      "bed taller than chair\n",
      "lamp above table\n",
      "table left cabinet\n",
      "chair right nightstand\n",
      "bed front table\n",
      "table left lamp\n",
      "wardrobe front lamp\n",
      "nightstand smaller than cabinet\n",
      "cabinet taller than nightstand\n",
      "nightstand shorter than table\n",
      "lamp above chair\n",
      "wardrobe taller than cabinet\n",
      "wardrobe bigger than table\n",
      "bed left cabinet\n",
      "table bigger than nightstand\n",
      "wardrobe taller than chair\n",
      "table same material as chair\n",
      "table close by bed\n",
      "lamp bigger than chair\n",
      "cabinet behind lamp\n",
      "nightstand front chair\n",
      "bed standing on floor\n",
      "wardrobe front chair\n",
      "cabinet same super category as wardrobe\n",
      "bed bigger than lamp\n",
      "chair shorter than nightstand\n",
      "lamp above floor\n",
      "cabinet shorter than bed\n",
      "chair close by table\n",
      "chair shorter than table\n",
      "nightstand left cabinet\n",
      "wardrobe bigger than nightstand\n",
      "lamp above bed\n",
      "wardrobe bigger than chair\n",
      "chair behind bed\n",
      "lamp behind nightstand\n",
      "nightstand front cabinet\n",
      "cabinet same style as table\n",
      "bed bigger than table\n",
      "nightstand front table\n",
      "cabinet smaller than table\n",
      "cabinet shorter than bed\n",
      "wardrobe same style as nightstand\n",
      "bed bigger than nightstand\n",
      "cabinet taller than chair\n",
      "lamp right chair\n",
      "lamp front chair\n",
      "table behind lamp\n",
      "wardrobe front table\n",
      "lamp smaller than wardrobe\n",
      "nightstand shorter than bed\n",
      "nightstand front bed\n",
      "bed bigger than chair\n",
      "lamp above nightstand\n",
      "table left chair\n",
      "bed bigger than wardrobe\n",
      "chair left cabinet\n",
      "bed behind wardrobe\n",
      "wardrobe taller than bed\n",
      "cabinet smaller than wardrobe\n",
      "nightstand smaller than lamp\n",
      "wardrobe taller than nightstand\n",
      "nightstand left lamp\n",
      "chair smaller than table\n",
      "table standing on floor\n",
      "wardrobe taller than table\n",
      "nightstand standing on floor\n",
      "cabinet bigger than chair\n",
      "lamp bigger than cabinet\n",
      "lamp above cabinet\n",
      "cabinet behind wardrobe\n",
      "chair standing on floor\n",
      "cabinet standing on floor\n",
      "wardrobe standing on floor\n",
      "lamp in room\n",
      "floor in room\n",
      "wardrobe in room\n",
      "bed in room\n",
      "cabinet in room\n",
      "table in room\n",
      "chair in room\n",
      "nightstand in room\n"
     ]
    }
   ],
   "source": [
    "a = dataset[0]\n",
    "for ew, dw in zip(a['encoder']['words'], a['decoder']['words']):\n",
    "    print(ew)\n"
   ]
  },
  {
   "cell_type": "code",
   "execution_count": 77,
   "metadata": {},
   "outputs": [
    {
     "name": "stdout",
     "output_type": "stream",
     "text": [
      "{'0': 'lamp', '1': 'floor', '2': 'wardrobe', '3': 'bed', '4': 'cabinet', '5': 'table', '6': 'chair', '7': 'nightstand', '8': '_scene_'}\n",
      "in\n",
      "MasterBedroom-33296\n",
      "[['0' '4' '1' 'left']\n",
      " ['7' '2' '14' 'same super category as']\n",
      " ['4' '7' '14' 'same super category as']\n",
      " ['3' '5' '10' 'taller than']\n",
      " ['2' '7' '15' 'same material as']\n",
      " ['7' '3' '5' 'close by']\n",
      " ['3' '6' '10' 'taller than']\n",
      " ['0' '5' '6' 'above']\n",
      " ['5' '4' '1' 'left']\n",
      " ['6' '7' '2' 'right']\n",
      " ['3' '5' '3' 'front']\n",
      " ['5' '0' '1' 'left']\n",
      " ['2' '0' '3' 'front']\n",
      " ['7' '4' '9' 'smaller than']\n",
      " ['4' '7' '10' 'taller than']\n",
      " ['7' '5' '11' 'shorter than']\n",
      " ['0' '6' '6' 'above']\n",
      " ['2' '4' '10' 'taller than']\n",
      " ['2' '5' '8' 'bigger than']\n",
      " ['3' '4' '1' 'left']\n",
      " ['5' '7' '8' 'bigger than']\n",
      " ['2' '6' '10' 'taller than']\n",
      " ['5' '6' '15' 'same material as']\n",
      " ['5' '3' '5' 'close by']\n",
      " ['0' '6' '8' 'bigger than']\n",
      " ['4' '0' '4' 'behind']\n",
      " ['7' '6' '3' 'front']\n",
      " ['3' '1' '7' 'standing on']\n",
      " ['2' '6' '3' 'front']\n",
      " ['4' '2' '14' 'same super category as']\n",
      " ['3' '0' '8' 'bigger than']\n",
      " ['6' '7' '11' 'shorter than']\n",
      " ['0' '1' '6' 'above']\n",
      " ['4' '3' '11' 'shorter than']\n",
      " ['6' '5' '5' 'close by']\n",
      " ['6' '5' '11' 'shorter than']\n",
      " ['7' '4' '1' 'left']\n",
      " ['2' '7' '8' 'bigger than']\n",
      " ['0' '3' '6' 'above']\n",
      " ['2' '6' '8' 'bigger than']\n",
      " ['6' '3' '4' 'behind']\n",
      " ['0' '7' '4' 'behind']\n",
      " ['7' '4' '3' 'front']\n",
      " ['4' '5' '13' 'same style as']\n",
      " ['3' '5' '8' 'bigger than']\n",
      " ['7' '5' '3' 'front']\n",
      " ['4' '5' '9' 'smaller than']\n",
      " ['4' '3' '11' 'shorter than']\n",
      " ['2' '7' '13' 'same style as']\n",
      " ['3' '7' '8' 'bigger than']\n",
      " ['4' '6' '10' 'taller than']\n",
      " ['0' '6' '2' 'right']\n",
      " ['0' '6' '3' 'front']\n",
      " ['5' '0' '4' 'behind']\n",
      " ['2' '5' '3' 'front']\n",
      " ['0' '2' '9' 'smaller than']\n",
      " ['7' '3' '11' 'shorter than']\n",
      " ['7' '3' '3' 'front']\n",
      " ['3' '6' '8' 'bigger than']\n",
      " ['0' '7' '6' 'above']\n",
      " ['5' '6' '1' 'left']\n",
      " ['3' '2' '8' 'bigger than']\n",
      " ['6' '4' '1' 'left']\n",
      " ['3' '2' '4' 'behind']\n",
      " ['2' '3' '10' 'taller than']\n",
      " ['4' '2' '9' 'smaller than']\n",
      " ['7' '0' '9' 'smaller than']\n",
      " ['2' '7' '10' 'taller than']\n",
      " ['7' '0' '1' 'left']\n",
      " ['6' '5' '9' 'smaller than']\n",
      " ['5' '1' '7' 'standing on']\n",
      " ['2' '5' '10' 'taller than']\n",
      " ['7' '1' '7' 'standing on']\n",
      " ['4' '6' '8' 'bigger than']\n",
      " ['0' '4' '8' 'bigger than']\n",
      " ['0' '4' '6' 'above']\n",
      " ['4' '2' '4' 'behind']\n",
      " ['6' '1' '7' 'standing on']\n",
      " ['4' '1' '7' 'standing on']\n",
      " ['2' '1' '7' 'standing on']\n",
      " ['0' '8' '0' 'in']\n",
      " ['1' '8' '0' 'in']\n",
      " ['2' '8' '0' 'in']\n",
      " ['3' '8' '0' 'in']\n",
      " ['4' '8' '0' 'in']\n",
      " ['5' '8' '0' 'in']\n",
      " ['6' '8' '0' 'in']\n",
      " ['7' '8' '0' 'in']]\n"
     ]
    }
   ],
   "source": [
    "txt_list = []\n",
    "for x in ['encoder']:\n",
    "    en_obj = a[x]['objs'].cpu().numpy().astype(np.int32)\n",
    "    en_triples = a[x]['triples'].cpu().numpy().astype(np.int32)\n",
    "    # print(en_triples)\n",
    "    #instance\n",
    "    sub = en_triples[:,0]\n",
    "    obj = en_triples[:,2]\n",
    "    #cat\n",
    "    instance_ids = np.array(sorted(list(set(sub.tolist() + obj.tolist())))) #0-n\n",
    "    cat_ids = en_obj[instance_ids]\n",
    "    texts = [dataset.classes_r[cat_id] for cat_id in cat_ids]\n",
    "    objs = dict(zip(instance_ids.tolist(),texts))\n",
    "    objs = {str(key): value for key, value in objs.items()}\n",
    "    print(objs)\n",
    "    for rel in en_triples[:,1]:\n",
    "        if rel == 0:\n",
    "            txt = 'in'\n",
    "            txt_list.append(txt)\n",
    "            continue\n",
    "        txt = dataset.relationships_dict_r[rel]\n",
    "        txt_list.append(txt)\n",
    "txt_list = np.array(txt_list)\n",
    "print(txt)\n",
    "rel_list = np.vstack((sub,obj,en_triples[:,1],txt_list)).transpose()\n",
    "print(a['scan_id'])\n",
    "print(rel_list)"
   ]
  },
  {
   "cell_type": "code",
   "execution_count": 53,
   "metadata": {},
   "outputs": [
    {
     "data": {
      "text/plain": [
       "((77,), (77,), (77, 3), (77,))"
      ]
     },
     "execution_count": 53,
     "metadata": {},
     "output_type": "execute_result"
    }
   ],
   "source": [
    "sub.shape, obj.shape, en_triples.shape, txt_list.shape"
   ]
  }
 ],
 "metadata": {
  "kernelspec": {
   "display_name": "echoscene",
   "language": "python",
   "name": "python3"
  },
  "language_info": {
   "codemirror_mode": {
    "name": "ipython",
    "version": 3
   },
   "file_extension": ".py",
   "mimetype": "text/x-python",
   "name": "python",
   "nbconvert_exporter": "python",
   "pygments_lexer": "ipython3",
   "version": "3.10.15"
  }
 },
 "nbformat": 4,
 "nbformat_minor": 2
}
